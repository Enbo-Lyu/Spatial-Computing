{
  "nbformat": 4,
  "nbformat_minor": 0,
  "metadata": {
    "colab": {
      "name": "5 inputs only or.ipynb",
      "provenance": [],
      "collapsed_sections": []
    },
    "kernelspec": {
      "name": "python3",
      "display_name": "Python 3"
    },
    "language_info": {
      "name": "python"
    },
    "gpuClass": "standard"
  },
  "cells": [
    {
      "cell_type": "code",
      "execution_count": null,
      "metadata": {
        "id": "dYdnF77vJmjm"
      },
      "outputs": [],
      "source": [
        "import math\n",
        "import itertools\n",
        "from itertools import *\n",
        "import numpy as np\n",
        "import collections\n",
        "from itertools import groupby\n",
        "import random\n",
        "import sys\n",
        "import copy\n",
        "import time"
      ]
    },
    {
      "cell_type": "code",
      "source": [
        "def toint(array_tar):\n",
        "  m,n = array_tar.shape \n",
        "  a = 2**np.arange(n)[::-1]  # -1 reverses array of powers of 2 of same length as bits\n",
        "  return array_tar @ a  # this matmult is the key line of code\n"
      ],
      "metadata": {
        "id": "giNG5DKZ3-lz"
      },
      "execution_count": null,
      "outputs": []
    },
    {
      "cell_type": "code",
      "source": [
        "def or_operation_for2_v4(array_tar): # original, create square matrix\n",
        "    # array_tar = array_tar[0:10000]\n",
        "    start1 = time.time()\n",
        "    arr_bin = toint(array_tar)\n",
        "    len1 = arr_bin.shape[0]\n",
        "    arr_bin = arr_bin.reshape(len1,1)\n",
        "    array1 = np.full((len1,len1),arr_bin)\n",
        "    array2 = array1.T\n",
        "    or_re = np.bitwise_or(array1,array2)*1\n",
        "    iu1 = np.triu_indices(len1)\n",
        "    or_re = or_re[iu1]\n",
        "    resu = np.unique(or_re)\n",
        "    end1 = time.time()\n",
        "    print(end1-start1)\n",
        "    return resu"
      ],
      "metadata": {
        "id": "QgwLuxNypFNl"
      },
      "execution_count": null,
      "outputs": []
    },
    {
      "cell_type": "code",
      "source": [
        "def or_operation_for3_v1(array_tar,result_1_or): # original, create square matrix\n",
        "    m = result_1_or.shape[0]\n",
        "\n",
        "    \n",
        "    arr_bin = toint(array_tar)\n",
        "    n = arr_bin.shape[0]\n",
        "    arr_bin = arr_bin.reshape(n,1)\n",
        "    array1 = np.full((m,n),arr_bin.T)\n",
        "\n",
        "    arr_bin_1_or = result_1_or.reshape(m,1)\n",
        "    array2 = np.full((m,n),arr_bin_1_or)\n",
        "    or_re = np.bitwise_or(array1,array2)\n",
        "    resu = np.unique(or_re)\n",
        "\n",
        "    return resu\n",
        "    "
      ],
      "metadata": {
        "id": "Br0Y00QtwYFA"
      },
      "execution_count": null,
      "outputs": []
    },
    {
      "cell_type": "code",
      "source": [
        "gate = np.load('all gate.npy')"
      ],
      "metadata": {
        "id": "JWXez5FT32Q2"
      },
      "execution_count": null,
      "outputs": []
    },
    {
      "cell_type": "code",
      "source": [
        "re = or_operation_for2_v4(gate)\n",
        "print(re.shape)"
      ],
      "metadata": {
        "id": "FA2QPF496A3A"
      },
      "execution_count": null,
      "outputs": []
    },
    {
      "cell_type": "code",
      "source": [
        ""
      ],
      "metadata": {
        "id": "utuBuRzwMvXI"
      },
      "execution_count": null,
      "outputs": []
    },
    {
      "cell_type": "code",
      "source": [
        "# def or_operation_for2(array_tar): # original, create square matrix\n",
        "#     set1 = set()\n",
        "#     len1 = array_tar.shape[0]\n",
        "#     len2 = array_tar.shape[1]\n",
        "\n",
        "#     array1 = np.full((len1,len1,len2),array_tar)\n",
        "#     array2 = array1.transpose((1,0,2))\n",
        "#     start1 = time.time()\n",
        "#     or_re = np.logical_or(array1,array2)*1\n",
        "#     or_re = np.reshape(or_re,(len1*len1,-1))\n",
        "#     end1 = time.time()\n",
        "#     print(end1-start1)\n",
        "#     start4 = time.time()\n",
        "#     re = toint(or_re)\n",
        "#     re_list = re.tolist()\n",
        "#     for item in re_list:\n",
        "#         set1.add(item)\n",
        "#     end4 = time.time()\n",
        "#     print(end4-start4)\n",
        "\n",
        "#     return len(set1)"
      ],
      "metadata": {
        "id": "S-aMdwG5ruFd"
      },
      "execution_count": null,
      "outputs": []
    },
    {
      "cell_type": "code",
      "source": [
        "# def or_operation_for2_v2(array_tar): # original, create square matrix\n",
        "#     # array_tar = array_tar[0:1000]\n",
        "#     start1 = time.time()\n",
        "#     arr_bin = toint(array_tar)\n",
        "#     len1 = arr_bin.shape[0]\n",
        "#     arr_bin = arr_bin.reshape(len1,1)\n",
        "#     array1 = np.full((len1,len1),arr_bin)\n",
        "#     array2 = array1.T\n",
        "#     or_re = np.bitwise_or(array1,array2)*1\n",
        "#     or_re = np.reshape(or_re,(1,len1*len1))\n",
        "#     or_re = or_re[0]\n",
        "#     re_list = or_re.tolist()\n",
        "#     re_set = set(re_list)\n",
        "#     end1 = time.time()\n",
        "#     print(end1-start1)\n",
        "#     return len(re_set)"
      ],
      "metadata": {
        "id": "0YCT9N1G-wXp"
      },
      "execution_count": null,
      "outputs": []
    },
    {
      "cell_type": "code",
      "source": [
        "# def or_operation_for2_v3(array_tar): # original, create square matrix\n",
        "#     # array_tar = array_tar[0:10000]\n",
        "#     start1 = time.time()\n",
        "#     arr_bin = toint(array_tar)\n",
        "#     len1 = arr_bin.shape[0]\n",
        "#     arr_bin = arr_bin.reshape(len1,1)\n",
        "#     array1 = np.full((len1,len1),arr_bin)\n",
        "#     array2 = array1.T\n",
        "#     or_re = np.bitwise_or(array1,array2)*1\n",
        "#     iu1 = np.triu_indices(len1)\n",
        "#     or_re = or_re[iu1]\n",
        "#     re_list = or_re.tolist()\n",
        "#     re_set = set(re_list)\n",
        "#     end1 = time.time()\n",
        "#     print(end1-start1)\n",
        "#     return len(re_set)"
      ],
      "metadata": {
        "id": "8Yl7nQ50jzj0"
      },
      "execution_count": 1,
      "outputs": []
    }
  ]
}
