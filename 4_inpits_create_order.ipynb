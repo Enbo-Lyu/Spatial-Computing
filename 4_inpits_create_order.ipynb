{
  "nbformat": 4,
  "nbformat_minor": 0,
  "metadata": {
    "colab": {
      "name": "finished: final result 4 inpits create order.ipynb",
      "provenance": [],
      "collapsed_sections": []
    },
    "kernelspec": {
      "name": "python3",
      "display_name": "Python 3"
    },
    "language_info": {
      "name": "python"
    },
    "gpuClass": "standard"
  },
  "cells": [
    {
      "cell_type": "code",
      "execution_count": 1,
      "metadata": {
        "id": "dYdnF77vJmjm"
      },
      "outputs": [],
      "source": [
        "import math\n",
        "import itertools\n",
        "from itertools import *\n",
        "import numpy as np\n",
        "import collections\n",
        "from itertools import groupby\n",
        "import random\n",
        "import sys\n",
        "import time"
      ]
    },
    {
      "cell_type": "code",
      "source": [
        "def convert(list):\n",
        "    return (*list, )"
      ],
      "metadata": {
        "id": "KuokX8LKDgUj"
      },
      "execution_count": 2,
      "outputs": []
    },
    {
      "cell_type": "code",
      "source": [
        "def del_same(tar):\n",
        "    tar01 = [list(t) for t in set(tuple(_) for _ in tar)]\n",
        "    return tar01\n",
        "\n",
        "def dictionary_outcome(tar,state):\n",
        "    dict_outcome = { }\n",
        "    for i in range(state+1):\n",
        "        dict_outcome[i]=[item for item in tar if np.sum(item)==i]\n",
        "        \n",
        "    for key, value in dict_outcome.items():\n",
        "        print(key,len(value),value)\n",
        "    return dict_outcome\n",
        "\n"
      ],
      "metadata": {
        "id": "zSj7yPPPJoWg"
      },
      "execution_count": 3,
      "outputs": []
    },
    {
      "cell_type": "code",
      "source": [
        "def sort_str(str):\n",
        "    return ''.join(sorted(str))\n",
        "\n",
        "\n",
        "def contains(substring, string):\n",
        "    if substring == string:\n",
        "        return False\n",
        "    else:\n",
        "        c1 = collections.Counter(string)\n",
        "        c2 = collections.Counter(substring)\n",
        "        return not (c2 - c1)\n",
        "\n",
        "def get_indx(list1,list_for_index):\n",
        "    list2 = map((lambda x: list_for_index.index(x)), list1)\n",
        "    return list(list2)\n",
        "\n",
        "\n",
        "def orderfun(obj, subitem):\n",
        "    for item in obj:\n",
        "        if len(item) > len(subitem) and contains(subitem, item):\n",
        "            if not(obj.index(subitem) < obj.index(item)):\n",
        "                return False\n",
        "            return True\n",
        "\n",
        "           "
      ],
      "metadata": {
        "id": "jlNzn7yCJtwY"
      },
      "execution_count": 4,
      "outputs": []
    },
    {
      "cell_type": "code",
      "source": [
        "def group_by(position):\n",
        "    position_no_0 = [item for item in position if item != '0']\n",
        "    group_by = [list(g) for k, g in groupby(position_no_0, key=len)]\n",
        "    return group_by\n",
        "\n",
        "def combine_2_item(list_tar):\n",
        "    new_list = []\n",
        "    for i in range(len(list_tar)):\n",
        "        for j in range(i+1,len(list_tar)):\n",
        "            new_list.append(sort_str(list_tar[i]+list_tar[j]))\n",
        "\n",
        "    return new_list\n",
        "def combine_3_item(list_tar):\n",
        "    new_list = []\n",
        "    l = len(list_tar)\n",
        "    for i in range(l):\n",
        "        for j in range(i+1,l):\n",
        "            for k in range(j+1,l):\n",
        "                new_list.append(sort_str(list_tar[i]+list_tar[j]+list_tar[k]))\n",
        "    return new_list\n",
        "\n",
        "def generate_list01(obj,num_input):\n",
        "    new_list = [x for x in obj if (len(x)==num_input and x!= '0')]\n",
        "    return new_list\n",
        "\n",
        "\n",
        "def fun_2nd_order(obj,position):\n",
        "    group = group_by(position)\n",
        "    list_one = generate_list01(obj,1)\n",
        "    list_group2 = combine_2_item(list_one) #2 inputs correct order\n",
        "    list_two = generate_list01(obj,2)\n",
        "    if not(list_group2 == list_two):\n",
        "        return False\n",
        "\n",
        "    return True\n",
        "\n",
        "def fun_3rd_order(obj,position):\n",
        "    group = group_by(position)\n",
        "    list_one = generate_list01(obj,1)\n",
        "    list_group3 = combine_3_item(list_one) #2 inputs correct order\n",
        "    list_three = generate_list01(obj,3)\n",
        "    if not(list_group3 == list_three):\n",
        "        return False\n",
        "\n",
        "    return True"
      ],
      "metadata": {
        "id": "y4ILHAyzJ2GK"
      },
      "execution_count": 5,
      "outputs": []
    },
    {
      "cell_type": "code",
      "source": [
        "\n",
        "def threshold1(array_order, threshold):\n",
        "    result = 1*np.greater(array_order, threshold)\n",
        "    return result\n",
        "\n",
        "def threshold2(array_order, threshold):\n",
        "    result = 1*np.greater_equal(array_order, threshold)\n",
        "    return result\n",
        "\n",
        "def all_threshold(array_order):\n",
        "    list_re = []\n",
        "    len = array_order.shape[1]\n",
        "    for i in range(len):\n",
        "        result1 = threshold1(array_order, i)\n",
        "        result2 = threshold2(array_order, i)\n",
        "        result = np.concatenate((result1, result2), axis = 0)\n",
        "        result = del_same(result)\n",
        "        list_re.append(result)\n",
        "    list_re = [item for sublist in list_re for item in sublist]\n",
        "    list_re = del_same(list_re) \n",
        "    array_re = np.array(list_re)\n",
        "    return array_re\n",
        "\n",
        "def bandpass1(array_order, left, right):\n",
        "    result = 1*np.logical_and(array_order>=left, array_order<=right)\n",
        "    return result\n",
        "\n",
        "def bandpass2(array_order, left, right):\n",
        "    result = 1*np.logical_and(array_order>left, array_order<right)\n",
        "    return result\n",
        "\n",
        "def all_bandpass(array_order, leftrange = 7, rightrange = 8):\n",
        "    list_re = []\n",
        "    len = array_order.shape[1]\n",
        "    for i in range(len-1):\n",
        "        for j in range(i,len):\n",
        "            result1 = bandpass1(array_order, i, j)\n",
        "            result2 = bandpass2(array_order, i, j)\n",
        "            result = np.concatenate((result1,result2),axis = 0)\n",
        "            result = del_same(result)\n",
        "            list_re.append(result)\n",
        "    list_re = [item for sublist in list_re for item in sublist]\n",
        "    list_re = del_same(list_re) \n",
        "    array_re = np.array(list_re)\n",
        "    return array_re\n",
        "\n",
        "def all_bandpass2(array_order, leftrange = 15, rightrange = 16):\n",
        "    list_re = []\n",
        "    len = array_order.shape[1]\n",
        "    for i in range(len-1):\n",
        "        for j in range(i,len):\n",
        "            result1 = bandpass1(array_order, i, j)\n",
        "            result2 = bandpass2(array_order, i, j)\n",
        "            result = np.concatenate((result1,result2),axis = 0)\n",
        "            result = del_same(result)\n",
        "            list_re.append(result)\n",
        "    list_re = [item for sublist in list_re for item in sublist]\n",
        "    list_re = del_same(list_re) \n",
        "    array_re = np.array(list_re)\n",
        "    return array_re\n"
      ],
      "metadata": {
        "id": "EWHyRQ5uu_Th"
      },
      "execution_count": 6,
      "outputs": []
    },
    {
      "cell_type": "markdown",
      "source": [
        "Create list forward"
      ],
      "metadata": {
        "id": "0LUVIgQT4AXr"
      }
    },
    {
      "cell_type": "code",
      "source": [
        "\n",
        "def add_item_remove(list_re,next_possible):\n",
        "    list_re.append(random.choice(next_possible))\n",
        "    next_possible.remove(list_re[len(list_re)-1])\n",
        "    return list_re, next_possible"
      ],
      "metadata": {
        "id": "3BhMWdb1aPgJ"
      },
      "execution_count": 7,
      "outputs": []
    },
    {
      "cell_type": "code",
      "source": [
        "def two_route(list_tar,num1,num2,remain_array):\n",
        "    route1 = list_tar\n",
        "    route2 = list_tar\n",
        "    route1 = np.hstack((route1, remain_array[:,num1].reshape(12,1)))\n",
        "    route1 = np.hstack((route1, remain_array[:,num2].reshape(12,1)))\n",
        "\n",
        "    route2 = np.hstack((route2, remain_array[:,num2].reshape(12,1)))\n",
        "    route2 = np.hstack((route2, remain_array[:,num1].reshape(12,1)))\n",
        "\n",
        "    stack = np.vstack((route1, route2))\n",
        "    return stack.tolist()\n",
        "\n",
        "def map_fun(list_tar,num1,num2):\n",
        "    map1 = map((lambda item:[item[:] ,[sort_str(item[num1]+item[num2])]]),list_tar)\n",
        "    list1 = [sum(list(item),[]) for item in map1]\n",
        "    return list1\n",
        "\n",
        "def map_fun2(list_tar,num1,num2,num3):\n",
        "    map1 = map((lambda item:[item[:] ,[sort_str(item[num1]+item[num2]+item[num3])]]),list_tar)\n",
        "    list1 = [sum(list(item),[]) for item in map1]\n",
        "    return list1\n",
        "\n",
        "def map_fun_later1(list_tar,num1,num2,re_later):\n",
        "    map1 = map((lambda item:[re_later[:] ,[sort_str(item[num1]+item[num2])]]),list_tar)\n",
        "    list1 = [sum(list(item),[]) for item in map1]\n",
        "    return list1\n",
        "\n",
        "def map_fun_later2(list_tar,num1,num2,num3,re_later):\n",
        "    map1 = map((lambda item:[re_later[:] ,[sort_str(item[num1]+item[num2]++item[num3])]]),list_tar)\n",
        "    list1 = [sum(list(item),[]) for item in map1]\n",
        "    return list1\n",
        "\n",
        "def iter_chain(item):\n",
        "    return list(itertools.chain.from_iterable(item))\n",
        "\n",
        "def two_route2(list_tar, num1, num2, num3, num4):\n",
        "    route1 = map_fun(list_tar,num1,num2)\n",
        "    route2 = map_fun(list_tar,num3, num4)\n",
        "    route1 = map_fun(route1,num3,num4)\n",
        "    route2 = map_fun(route2,num1, num2)\n",
        "    route = route1 + route2\n",
        "    return route\n",
        "\n",
        "def two_route_add1(list_tar,num1,num2,remain_array):\n",
        "    route1 = list_tar\n",
        "    route2 = list_tar\n",
        "    route1 = np.hstack((route1, remain_array[:,num1].reshape(12,1)))\n",
        "\n",
        "    route2 = np.hstack((route2, remain_array[:,num2].reshape(12,1)))\n",
        "\n",
        "    stack = np.vstack((route1, route2))\n",
        "    return stack.tolist()\n",
        "\n",
        "def two_route_1_3(list_tar,num1,num2,num3):\n",
        "    route1 = list_tar\n",
        "    route2 = list_tar\n",
        "    remain_array = remain(single,list_tar)\n",
        "\n",
        "    route1 = np.hstack((route1, remain_array))\n",
        "    route1 = route1.tolist()\n",
        "    route1 = map_fun2(route1,num1,num2,num3)\n",
        "    route1 = np.array(route1)\n",
        "\n",
        "    route2 = map_fun2(route2,num1,num2,num3)\n",
        "    route2 = np.array(route2)\n",
        "    route2 = np.hstack((route2,remain_array))\n",
        "\n",
        "    stack = np.vstack((route1, route2))\n",
        "    return stack.tolist()\n"
      ],
      "metadata": {
        "id": "HgUbgg0nV5JG"
      },
      "execution_count": 8,
      "outputs": []
    },
    {
      "cell_type": "code",
      "source": [
        "def remain(all_list,list_tar):\n",
        "    remain = map(lambda item: list(set(all_list)-set(item)), list_tar)\n",
        "    remain = [list(item) for item in remain]\n",
        "    return np.array(remain)\n",
        "\n",
        "def move_duplicate_set(list_tar):\n",
        "    return[list(item) for item in set(tuple(row) for row in list_tar)]\n"
      ],
      "metadata": {
        "id": "C3Nmi0rTCyqF"
      },
      "execution_count": 9,
      "outputs": []
    },
    {
      "cell_type": "code",
      "source": [
        "position = ['0','a','b','c','d','ab','ac','ad','bc','bd','cd','abc','abd','acd','bcd','abcd']"
      ],
      "metadata": {
        "id": "qDjd3ayhoN3i"
      },
      "execution_count": 10,
      "outputs": []
    },
    {
      "cell_type": "code",
      "source": [
        "# order1 = np.load('48_order_ababcacbc.npy')\n",
        "# order2 = np.load('a_b_c_ab_ac_bc.npy')\n",
        "# order3 = np.load('a_b_c_ab_ac_d_48order.npy')\n",
        "# order4 = np.load('a_b_c_ab_d_ac_48order.npy')\n",
        "# order5 = np.load('order_ababcacd.npy')\n",
        "# order6 = np.load('orders_48.npy')\n",
        "# order7 = np.load('orders_abcd_48.npy')\n"
      ],
      "metadata": {
        "id": "UUxRDGY3M_xZ"
      },
      "execution_count": 11,
      "outputs": []
    },
    {
      "cell_type": "code",
      "source": [
        "# order = np.vstack((order1,order2))\n",
        "# order = np.vstack((order,order3))\n",
        "# order = np.vstack((order,order4))\n",
        "\n",
        "# order = np.vstack((order,order5))\n",
        "# order = np.vstack((order,order6))\n",
        "# order = np.vstack((order,order7))\n",
        "\n",
        "\n"
      ],
      "metadata": {
        "id": "q0KYUZAPOn27"
      },
      "execution_count": null,
      "outputs": []
    },
    {
      "cell_type": "code",
      "source": [
        "print(order.shape)"
      ],
      "metadata": {
        "colab": {
          "base_uri": "https://localhost:8080/"
        },
        "id": "mY474Pq2Otzi",
        "outputId": "b7cf5d33-7ac6-4aa2-cca8-fe6f28452788"
      },
      "execution_count": null,
      "outputs": [
        {
          "output_type": "stream",
          "name": "stdout",
          "text": [
            "(336, 14)\n"
          ]
        }
      ]
    },
    {
      "cell_type": "code",
      "source": [
        "np.save('all_order',order)"
      ],
      "metadata": {
        "id": "Pyf0KwmSOtAf"
      },
      "execution_count": null,
      "outputs": []
    },
    {
      "cell_type": "code",
      "source": [
        "all = np.load('all_order_final.npy')"
      ],
      "metadata": {
        "id": "lLO9iXy3UMDU"
      },
      "execution_count": null,
      "outputs": []
    },
    {
      "cell_type": "code",
      "source": [
        "all_list = all.tolist()"
      ],
      "metadata": {
        "id": "Z1a0evzdsQfW"
      },
      "execution_count": null,
      "outputs": []
    },
    {
      "cell_type": "code",
      "source": [
        "index = []\n",
        "for item in all_list:\n",
        "    re = get_indx(position, item)\n",
        "    index.append(re)\n",
        "index_array = np.array(index)"
      ],
      "metadata": {
        "id": "Y40HPhfpsxBt"
      },
      "execution_count": null,
      "outputs": []
    },
    {
      "cell_type": "code",
      "source": [
        "index_array = np.array(index)"
      ],
      "metadata": {
        "id": "YhWCe0DntaqP"
      },
      "execution_count": null,
      "outputs": []
    },
    {
      "cell_type": "code",
      "source": [
        "np.save('all_index_one_output',index_array)"
      ],
      "metadata": {
        "id": "PYDqWWDo9tIa"
      },
      "execution_count": null,
      "outputs": []
    },
    {
      "cell_type": "code",
      "source": [
        "index_array = np.load('all_index_one_output.npy')"
      ],
      "metadata": {
        "id": "1dgFpzOe3JzY"
      },
      "execution_count": null,
      "outputs": []
    },
    {
      "cell_type": "code",
      "source": [
        "# bandpass and ivbp result\n",
        "bp = all_bandpass2(index_array)\n",
        "ivbp = 1*np.less(bp,1)\n",
        "all_gate = np.concatenate((bp, ivbp),axis = 0)\n",
        "all_gate = del_same(all_gate)\n",
        "all1 = np.array(all_gate)\n",
        "print(all1.shape)  # (4034, 16)"
      ],
      "metadata": {
        "colab": {
          "base_uri": "https://localhost:8080/"
        },
        "id": "MTkh3mFYwDaY",
        "outputId": "e8fd7961-34c6-49a3-9631-ccf2388ba522"
      },
      "execution_count": null,
      "outputs": [
        {
          "output_type": "stream",
          "name": "stdout",
          "text": [
            "(4034, 16)\n"
          ]
        }
      ]
    },
    {
      "cell_type": "code",
      "source": [
        "dict_4034 = dictionary_outcome(all_gate,16)"
      ],
      "metadata": {
        "id": "Cpo-8Jfk3WLT"
      },
      "execution_count": null,
      "outputs": []
    },
    {
      "cell_type": "code",
      "source": [
        "all_gate1 = np.concatenate((bp, ivbp),axis = 0)\n",
        "unique = np.unique(all_gate1,axis = 0)\n",
        "print(unique.shape)"
      ],
      "metadata": {
        "colab": {
          "base_uri": "https://localhost:8080/"
        },
        "id": "Hiabwc2y7COr",
        "outputId": "2b3a7e2f-f8a9-4f3c-a53d-7d481bed3de0"
      },
      "execution_count": null,
      "outputs": [
        {
          "output_type": "stream",
          "name": "stdout",
          "text": [
            "(4034, 16)\n"
          ]
        }
      ]
    },
    {
      "cell_type": "code",
      "source": [
        "np.save('4inputs_1output_gate',all1)"
      ],
      "metadata": {
        "id": "wVm3IW2y6QPd"
      },
      "execution_count": null,
      "outputs": []
    },
    {
      "cell_type": "code",
      "source": [
        "dict_output1 = dictionary_outcome(unique,16)"
      ],
      "metadata": {
        "id": "JuZS4gT55YZy"
      },
      "execution_count": null,
      "outputs": []
    },
    {
      "cell_type": "code",
      "source": [
        "# logic gate array: unique (4034, 16)\n",
        "# logic gate list: all_gate\n",
        "\n",
        "getgate = set()\n",
        "for i in range(len(all_gate)):\n",
        "    for j in range(i,len(all_gate)):\n",
        "        g01 = np.add(unique[i],unique[j])\n",
        "        g01 = 1*np.greater_equal(g01,1)\n",
        "        g01 = g01.tolist()\n",
        "        g01 = convert(g01)\n",
        "        getgate.add(g01)\n",
        "print(len(getgate)) \n"
      ],
      "metadata": {
        "colab": {
          "base_uri": "https://localhost:8080/"
        },
        "id": "EANPNxKy6qzb",
        "outputId": "37e1b669-44f5-46ef-e716-f8bfa2043ff5"
      },
      "execution_count": null,
      "outputs": [
        {
          "output_type": "stream",
          "name": "stdout",
          "text": [
            "56416\n"
          ]
        }
      ]
    },
    {
      "cell_type": "code",
      "source": [
        "getgate2 = set()\n",
        "for i in range(len(all_gate)):\n",
        "    for j in range(i,len(all_gate)):\n",
        "        for k in range(j,len(all_gate)):\n",
        "            g01 = np.add(unique[i],unique[j])\n",
        "            g01 = np.add(g01,unique[k])\n",
        "            g01 = 1*np.greater_equal(g01,1)\n",
        "            g01 = g01.tolist()\n",
        "            g01 = convert(g01)\n",
        "            getgate2.add(g01)\n",
        "print(len(getgate2)) "
      ],
      "metadata": {
        "colab": {
          "base_uri": "https://localhost:8080/",
          "height": 239
        },
        "id": "N7xLT_VRSF5r",
        "outputId": "9777cdcd-3635-4f62-efbf-0744f2c68d64"
      },
      "execution_count": null,
      "outputs": [
        {
          "output_type": "error",
          "ename": "KeyboardInterrupt",
          "evalue": "ignored",
          "traceback": [
            "\u001b[0;31m---------------------------------------------------------------------------\u001b[0m",
            "\u001b[0;31mKeyboardInterrupt\u001b[0m                         Traceback (most recent call last)",
            "\u001b[0;32m<ipython-input-96-28649b4ffbec>\u001b[0m in \u001b[0;36m<module>\u001b[0;34m()\u001b[0m\n\u001b[1;32m      5\u001b[0m             \u001b[0mg01\u001b[0m \u001b[0;34m=\u001b[0m \u001b[0mnp\u001b[0m\u001b[0;34m.\u001b[0m\u001b[0madd\u001b[0m\u001b[0;34m(\u001b[0m\u001b[0munique\u001b[0m\u001b[0;34m[\u001b[0m\u001b[0mi\u001b[0m\u001b[0;34m]\u001b[0m\u001b[0;34m,\u001b[0m\u001b[0munique\u001b[0m\u001b[0;34m[\u001b[0m\u001b[0mj\u001b[0m\u001b[0;34m]\u001b[0m\u001b[0;34m)\u001b[0m\u001b[0;34m\u001b[0m\u001b[0;34m\u001b[0m\u001b[0m\n\u001b[1;32m      6\u001b[0m             \u001b[0mg01\u001b[0m \u001b[0;34m=\u001b[0m \u001b[0mnp\u001b[0m\u001b[0;34m.\u001b[0m\u001b[0madd\u001b[0m\u001b[0;34m(\u001b[0m\u001b[0mg01\u001b[0m\u001b[0;34m,\u001b[0m\u001b[0munique\u001b[0m\u001b[0;34m[\u001b[0m\u001b[0mk\u001b[0m\u001b[0;34m]\u001b[0m\u001b[0;34m)\u001b[0m\u001b[0;34m\u001b[0m\u001b[0;34m\u001b[0m\u001b[0m\n\u001b[0;32m----> 7\u001b[0;31m             \u001b[0mg01\u001b[0m \u001b[0;34m=\u001b[0m \u001b[0;36m1\u001b[0m\u001b[0;34m*\u001b[0m\u001b[0mnp\u001b[0m\u001b[0;34m.\u001b[0m\u001b[0mgreater_equal\u001b[0m\u001b[0;34m(\u001b[0m\u001b[0mg01\u001b[0m\u001b[0;34m,\u001b[0m\u001b[0;36m1\u001b[0m\u001b[0;34m)\u001b[0m\u001b[0;34m\u001b[0m\u001b[0;34m\u001b[0m\u001b[0m\n\u001b[0m\u001b[1;32m      8\u001b[0m             \u001b[0mg01\u001b[0m \u001b[0;34m=\u001b[0m \u001b[0mg01\u001b[0m\u001b[0;34m.\u001b[0m\u001b[0mtolist\u001b[0m\u001b[0;34m(\u001b[0m\u001b[0;34m)\u001b[0m\u001b[0;34m\u001b[0m\u001b[0;34m\u001b[0m\u001b[0m\n\u001b[1;32m      9\u001b[0m             \u001b[0mg01\u001b[0m \u001b[0;34m=\u001b[0m \u001b[0mconvert\u001b[0m\u001b[0;34m(\u001b[0m\u001b[0mg01\u001b[0m\u001b[0;34m)\u001b[0m\u001b[0;34m\u001b[0m\u001b[0;34m\u001b[0m\u001b[0m\n",
            "\u001b[0;31mKeyboardInterrupt\u001b[0m: "
          ]
        }
      ]
    },
    {
      "cell_type": "code",
      "source": [
        "getgate2 = set()\n",
        "\n",
        "for i in range(len(all_gate)):\n",
        "    for j in range(i,len(all_gate)):\n",
        "        for k in range(j,len(all_gate)):\n",
        "            if len(getgate2) != 2**(2**4):\n",
        "                g01 = np.add(unique[i],unique[j])\n",
        "                g01 = np.add(g01,unique[k])\n",
        "                g01 = 1*np.greater_equal(g01,1)\n",
        "                g01 = g01.tolist()\n",
        "                g01 = convert(g01)\n",
        "                getgate2.add(g01)\n",
        "\n",
        "            else:\n",
        "                sys.exit()\n",
        "\n",
        "\n"
      ],
      "metadata": {
        "colab": {
          "base_uri": "https://localhost:8080/",
          "height": 152
        },
        "id": "Eh4fDdATZvOk",
        "outputId": "d09dc889-01ea-4628-d611-98d19f48bd73"
      },
      "execution_count": null,
      "outputs": [
        {
          "output_type": "error",
          "ename": "SystemExit",
          "evalue": "ignored",
          "traceback": [
            "An exception has occurred, use %tb to see the full traceback.\n",
            "\u001b[0;31mSystemExit\u001b[0m\n"
          ]
        },
        {
          "output_type": "stream",
          "name": "stderr",
          "text": [
            "/usr/local/lib/python3.7/dist-packages/IPython/core/interactiveshell.py:2890: UserWarning: To exit: use 'exit', 'quit', or Ctrl-D.\n",
            "  warn(\"To exit: use 'exit', 'quit', or Ctrl-D.\", stacklevel=1)\n"
          ]
        }
      ]
    },
    {
      "cell_type": "code",
      "source": [
        "print(len(getgate2))"
      ],
      "metadata": {
        "colab": {
          "base_uri": "https://localhost:8080/"
        },
        "id": "NkHOeVLcj4IE",
        "outputId": "7892f369-2290-43a6-f38b-9bd289caf1a6"
      },
      "execution_count": null,
      "outputs": [
        {
          "output_type": "stream",
          "name": "stdout",
          "text": [
            "65536\n"
          ]
        }
      ]
    },
    {
      "cell_type": "code",
      "source": [
        "list_gate = [list(item) for item in getgate]\n",
        "print(len(list_gate))"
      ],
      "metadata": {
        "colab": {
          "base_uri": "https://localhost:8080/"
        },
        "id": "i56Dgoc9RfZA",
        "outputId": "fa72cf59-e794-41be-d8dc-cc885dbe0b50"
      },
      "execution_count": null,
      "outputs": [
        {
          "output_type": "stream",
          "name": "stdout",
          "text": [
            "56416\n"
          ]
        }
      ]
    },
    {
      "cell_type": "code",
      "source": [
        "input4_orders = np.load('4inputs_1output_gate.npy')\n",
        "print(input4_orders.shape)"
      ],
      "metadata": {
        "id": "1iU0fcIzI8Dl",
        "colab": {
          "base_uri": "https://localhost:8080/"
        },
        "outputId": "ca12888c-eb71-4893-b630-9855532a47b3"
      },
      "execution_count": 12,
      "outputs": [
        {
          "output_type": "stream",
          "name": "stdout",
          "text": [
            "(4034, 16)\n"
          ]
        }
      ]
    },
    {
      "cell_type": "code",
      "source": [
        "def or_operation1(array_tar): # original, create square matrix\n",
        "    len1 = array_tar.shape[0]\n",
        "    len2 = array_tar.shape[1]\n",
        "\n",
        "    array1 = np.full((len1,len1,len2),array_tar)\n",
        "    array2 = array1.transpose((1,0,2))\n",
        "    start1 = time.time()\n",
        "    summ = np.add(array1,array2)\n",
        "    end1 = start = time.time()\n",
        "    print(end1-start1)\n",
        "    start2 = time.time()\n",
        "    reduce_summ = np.reshape(summ,(len1*len1,-1))\n",
        "    end2 = time.time()\n",
        "    print(end2-start2)\n",
        "    start3 = time.time()\n",
        "    re = 1*np.greater_equal(reduce_summ,1)\n",
        "    end3 = time.time()\n",
        "    print(end3-start3)\n",
        "    start4 = time.time()\n",
        "    re = np.unique(re, axis=0)\n",
        "    end4 = time.time()\n",
        "    print(end4-start4)\n",
        "\n",
        "    return re"
      ],
      "metadata": {
        "id": "7P2rfQrVC7IZ"
      },
      "execution_count": 21,
      "outputs": []
    },
    {
      "cell_type": "code",
      "source": [
        "# def or_operation1(array_tar):\n",
        "#     # original, create square matrix\n",
        "#     set1 = set()\n",
        "#     len1 = array_tar.shape[0]\n",
        "#     len2 = array_tar.shape[1]\n",
        "\n",
        "#     array1 = np.full((len1,len1,len2),array_tar)\n",
        "#     array2 = array1.transpose((1,0,2))\n",
        "#     start1 = time.time()\n",
        "#     or_re = np.logical_or(array1,array2)*1\n",
        "#     end1 = time.time()\n",
        "#     print(end1-start1)\n",
        "#     start2 = time.time()\n",
        "#     or_re = np.reshape(or_re,(len1*len1,-1))\n",
        "\n",
        "#     re_list = or_re.tolist()\n",
        "#     end2 = time.time()\n",
        "#     print(end2-start2)\n",
        "#     start4 = time.time()\n",
        "#     set1.add(convert(item) for item in re_list)\n",
        "#     list1 = [list(item) for item in set1]        ### WRONG\n",
        "#     end4 = time.time()\n",
        "#     print(end4-start4)\n",
        "\n",
        "#     return len(list1)"
      ],
      "metadata": {
        "id": "nuNs9P_zzYGH"
      },
      "execution_count": 18,
      "outputs": []
    },
    {
      "cell_type": "code",
      "source": [
        "re = or_operation1(input4_orders)"
      ],
      "metadata": {
        "colab": {
          "base_uri": "https://localhost:8080/"
        },
        "id": "GAX9gYhg1yHD",
        "outputId": "519942e4-5bb3-445b-ced4-5a63c5f8f413"
      },
      "execution_count": 22,
      "outputs": [
        {
          "output_type": "stream",
          "name": "stdout",
          "text": [
            "1.7186634540557861\n",
            "4.744529724121094e-05\n",
            "3.109694719314575\n",
            "104.1384961605072\n"
          ]
        }
      ]
    },
    {
      "cell_type": "code",
      "source": [
        "print(re.shape)"
      ],
      "metadata": {
        "colab": {
          "base_uri": "https://localhost:8080/"
        },
        "id": "RCGZmVLS17u-",
        "outputId": "e85ebb43-e57b-44ee-9aef-ea8cb3aa351f"
      },
      "execution_count": 23,
      "outputs": [
        {
          "output_type": "stream",
          "name": "stdout",
          "text": [
            "(56416, 16)\n"
          ]
        }
      ]
    },
    {
      "cell_type": "code",
      "source": [
        ""
      ],
      "metadata": {
        "id": "GPe3mnUu2Cec"
      },
      "execution_count": null,
      "outputs": []
    },
    {
      "cell_type": "code",
      "source": [
        "def or_operation(array_tar):\n",
        "    len1 = array_tar.shape[0]\n",
        "    len2 = array_tar.shape[1]\n",
        "\n",
        "    array1 = np.tri((len1,len1,len2),array_tar)\n",
        "    array2 = array1.transpose((1,0,2))\n",
        "\n",
        "    summ = np.add(array1,array2)\n",
        "    reduce_summ = np.reshape(summ,(len1*len1,-1))\n",
        "    re = 1*np.greater_equal(reduce_summ,1)\n",
        "    re = np.unique(re, axis=0)\n",
        "\n",
        "    return re"
      ],
      "metadata": {
        "id": "fvopQX4O_KcD"
      },
      "execution_count": null,
      "outputs": []
    }
  ]
}